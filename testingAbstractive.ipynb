{
 "cells": [
  {
   "cell_type": "code",
   "execution_count": 3,
   "id": "cf6a09b5-82d4-483f-ab33-1657e0b5612b",
   "metadata": {},
   "outputs": [],
   "source": [
    "import requests\n",
    "from bs4 import BeautifulSoup\n",
    "# import spacy\n",
    "# from sklearn.feature_extraction.text import TfidfVectorizer\n",
    "# from sklearn.ensemble import RandomForestClassifier\n",
    "# import streamlit as st\n",
    "\n",
    "from transformers import pipeline\n",
    "import re"
   ]
  },
  {
   "cell_type": "code",
   "execution_count": 4,
   "id": "6081faed-282a-41d2-9c35-5798cb2127a3",
   "metadata": {},
   "outputs": [],
   "source": [
    "# specify the URL of the news website to scrape\n",
    "url = \"https://www.theverge.com/\"\n",
    "\n",
    "# send a GET request to the website URL and store the response\n",
    "response = requests.get(url)\n",
    "\n",
    "# parse the HTML content of the response using BeautifulSoup\n",
    "soup = BeautifulSoup(response.content, \"html.parser\")\n",
    "\n",
    "# find all the news article links on the website\n",
    "article_links = soup.find_all(\"a\", class_=\"group-hover:shadow-underline-franklin\")\n",
    "\n",
    "l = []\n",
    "links = []\n",
    "\n",
    "# loop through each article link and scrape the article text\n",
    "for link in article_links:\n",
    "    # extract the URL of the article\n",
    "    article_url = link[\"href\"]\n",
    "    \n",
    "    # send a GET request to the article URL and store the response\n",
    "    article_response = requests.get(url + article_url)\n",
    "    links.append(url + article_url)\n",
    "\n",
    "#     # parse the HTML content of the article using BeautifulSoup\n",
    "    article_soup = BeautifulSoup(article_response.content, \"html.parser\")\n",
    "    \n",
    "#     # find the main text content of the article and print it\n",
    "    article_text = article_soup.find(\"div\", class_=\"clearfix\").get_text()\n",
    "    l.append(article_text)\n"
   ]
  },
  {
   "cell_type": "code",
   "execution_count": 5,
   "id": "0e186365-e79c-4686-a136-aef29bdae684",
   "metadata": {},
   "outputs": [],
   "source": [
    "def get_first_thousand_words(text):\n",
    "    words = re.findall(r'\\b\\w+\\b|[^\\w\\s]', text)\n",
    "    return ' '.join(words[:800])\n"
   ]
  },
  {
   "cell_type": "code",
   "execution_count": 6,
   "id": "a6bc72ab-94fa-4580-91d4-e7028432db31",
   "metadata": {},
   "outputs": [],
   "source": [
    "# for i in l:\n",
    "#     i = get_first_thousand_words(i)\n",
    "#     print(i)"
   ]
  },
  {
   "cell_type": "code",
   "execution_count": 14,
   "id": "6e275d33-c2c4-4a6d-b932-53afa9436654",
   "metadata": {},
   "outputs": [],
   "source": [
    "\n",
    "summarizer = pipeline(\"summarization\", model=\"facebook/bart-large-cnn\")\n",
    "summaries = []\n",
    "for i in l:\n",
    "    i = get_first_thousand_words(i)\n",
    "\n",
    "    summaries.append(summarizer(i, max_length=300, min_length=100))\n"
   ]
  },
  {
   "cell_type": "code",
   "execution_count": 15,
   "id": "68149105-10ae-4b83-b7c1-b83976cc67b8",
   "metadata": {
    "tags": []
   },
   "outputs": [
    {
     "data": {
      "text/plain": [
       "[[{'summary_text': 'Short sellers at Hindenburg Research published a report alleging widespread fraud at Jack Dorsey’s company, Block. The report alleges that Block misled its investors and is engaging in predatory lending practices. Block is threatening to sue and its shares closed down almost 15 percent on March 23rd, the day the report was released. If this is right, Block is so bad at policing its own users that Dorsey himself is collateral damage in scamming. But the real pièce de résistance is the Donald Trump credit card , which , of course, they tweeted.'}],\n",
       " [{'summary_text': 'The Framework Laptop 16 boasts six card slots and a new Input Module system that — yes — lets you hotswap out the entire keyboard and touchpad. A piece of the laptop ’ s rear can slide out and be replaced with as large a module as the module developer needs. The modules can even be used in an external enclosure , say as an external GPU. The company won’t say whether Nvidia and AMD are actually on board with the idea — which could be make - or - break — but a working graphics module will be on display at its event today.'}],\n",
       " [{'summary_text': 'OpenAI is adding support for plug - ins to ChatGPT. The upgrade massively expands the chatbot ’ s capabilities and gives it access for the first time to live data from the web. There are 11 plug -ins for external sites, including Expedia, OpenTable, Kayak, Klarna Shopping, and Zapier. OpenAI is also providing some plug - in of its own , one for interpreting code and one called “ Browsing ” which lets ChatG PT get information from the internet.'}],\n",
       " [{'summary_text': 'The new Tesla Wireless Charging Platform is a beefy , brutalist multi - device charger. It charges up to three Qi devices anywhere you drop them. The included 65W USB - C GaN charger has Cybertruck - like angles itself. $ 300 is a lot to ask forCybertruck inspired design not for everyoneDoesn’t have any extra charging portsMuch cheaper chargers offer more versatility $ 300 . 00 at TeslaHow we rate and review products. 6Verge ScoreTesla Wireless Charged Platform $ 300.'}],\n",
       " [{'summary_text': 'Main Linus Tech Tips YouTube channel hacked this morning. 15.3 million subscribers see videos for crypto scams instead of tech hardware reviews. Other Linus Media Group YouTube channels have also been breached and given new names focused on Tesla. This is just the latest in a series of breaches that have occurred over the past year, generally designed to promote livestreams that push viewers to amateur - looking crypto sites through links or QR codes. These scams have been going on for months, and one YouTuber claims they work through fake sponsors reaching out to creators.'}]]"
      ]
     },
     "execution_count": 15,
     "metadata": {},
     "output_type": "execute_result"
    }
   ],
   "source": [
    "summaries"
   ]
  },
  {
   "cell_type": "code",
   "execution_count": 23,
   "id": "4fa5c48e-b4c7-4a79-8db5-878d8b9343c8",
   "metadata": {},
   "outputs": [],
   "source": [
    "summariesText = [i[0][\"summary_text\"] for i in summaries]"
   ]
  },
  {
   "cell_type": "code",
   "execution_count": 24,
   "id": "3aeda6b9-f6bc-423a-86bd-07338ae64807",
   "metadata": {
    "tags": []
   },
   "outputs": [
    {
     "data": {
      "text/plain": [
       "['Short sellers at Hindenburg Research published a report alleging widespread fraud at Jack Dorsey’s company, Block. The report alleges that Block misled its investors and is engaging in predatory lending practices. Block is threatening to sue and its shares closed down almost 15 percent on March 23rd, the day the report was released. If this is right, Block is so bad at policing its own users that Dorsey himself is collateral damage in scamming. But the real pièce de résistance is the Donald Trump credit card , which , of course, they tweeted.',\n",
       " 'The Framework Laptop 16 boasts six card slots and a new Input Module system that — yes — lets you hotswap out the entire keyboard and touchpad. A piece of the laptop ’ s rear can slide out and be replaced with as large a module as the module developer needs. The modules can even be used in an external enclosure , say as an external GPU. The company won’t say whether Nvidia and AMD are actually on board with the idea — which could be make - or - break — but a working graphics module will be on display at its event today.',\n",
       " 'OpenAI is adding support for plug - ins to ChatGPT. The upgrade massively expands the chatbot ’ s capabilities and gives it access for the first time to live data from the web. There are 11 plug -ins for external sites, including Expedia, OpenTable, Kayak, Klarna Shopping, and Zapier. OpenAI is also providing some plug - in of its own , one for interpreting code and one called “ Browsing ” which lets ChatG PT get information from the internet.',\n",
       " 'The new Tesla Wireless Charging Platform is a beefy , brutalist multi - device charger. It charges up to three Qi devices anywhere you drop them. The included 65W USB - C GaN charger has Cybertruck - like angles itself. $ 300 is a lot to ask forCybertruck inspired design not for everyoneDoesn’t have any extra charging portsMuch cheaper chargers offer more versatility $ 300 . 00 at TeslaHow we rate and review products. 6Verge ScoreTesla Wireless Charged Platform $ 300.',\n",
       " 'Main Linus Tech Tips YouTube channel hacked this morning. 15.3 million subscribers see videos for crypto scams instead of tech hardware reviews. Other Linus Media Group YouTube channels have also been breached and given new names focused on Tesla. This is just the latest in a series of breaches that have occurred over the past year, generally designed to promote livestreams that push viewers to amateur - looking crypto sites through links or QR codes. These scams have been going on for months, and one YouTuber claims they work through fake sponsors reaching out to creators.']"
      ]
     },
     "execution_count": 24,
     "metadata": {},
     "output_type": "execute_result"
    }
   ],
   "source": [
    "summariesText"
   ]
  },
  {
   "cell_type": "code",
   "execution_count": null,
   "id": "5a675c07-0688-4c9c-8b2e-7908e63393be",
   "metadata": {},
   "outputs": [],
   "source": []
  }
 ],
 "metadata": {
  "kernelspec": {
   "display_name": "Python 3 (ipykernel)",
   "language": "python",
   "name": "python3"
  },
  "language_info": {
   "codemirror_mode": {
    "name": "ipython",
    "version": 3
   },
   "file_extension": ".py",
   "mimetype": "text/x-python",
   "name": "python",
   "nbconvert_exporter": "python",
   "pygments_lexer": "ipython3",
   "version": "3.11.0"
  }
 },
 "nbformat": 4,
 "nbformat_minor": 5
}
