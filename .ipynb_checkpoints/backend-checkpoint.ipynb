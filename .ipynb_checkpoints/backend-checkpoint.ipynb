{
 "cells": [
  {
   "cell_type": "code",
   "execution_count": 84,
   "id": "d2721155-b523-4fd3-a386-10f7a3866b2c",
   "metadata": {
    "tags": []
   },
   "outputs": [],
   "source": [
    "\n",
    "import requests\n",
    "from bs4 import BeautifulSoup\n",
    "# import streamlit as st\n",
    "from transformers import pipeline\n",
    "import re\n",
    "import pymongo\n",
    "from pymongo import MongoClient\n",
    "\n",
    "\n",
    "\n",
    "# specify the URL of the news website to scrape\n",
    "url = \"https://www.theverge.com/\"\n",
    "\n",
    "# send a GET request to the website URL and store the response\n",
    "response = requests.get(url)\n",
    "\n",
    "# parse the HTML content of the response using BeautifulSoup\n",
    "soup = BeautifulSoup(response.content, \"html.parser\")\n",
    "\n",
    "# find all the news article links on the website\n",
    "article_links = soup.find_all(\"a\", class_=\"group-hover:shadow-underline-franklin\")\n",
    "\n",
    "l = []\n",
    "links = []\n",
    "\n",
    "# loop through each article link and scrape the article text\n",
    "for link in article_links:\n",
    "    # extract the URL of the article\n",
    "    article_url = link[\"href\"]\n",
    "    \n",
    "    # send a GET request to the article URL and store the response\n",
    "    article_response = requests.get(url + article_url)\n",
    "    links.append(url + article_url)\n",
    "\n",
    "#     # parse the HTML content of the article using BeautifulSoup\n",
    "    article_soup = BeautifulSoup(article_response.content, \"html.parser\")\n",
    "    \n",
    "#     # find the main text content of the article and print it\n",
    "    article_text = article_soup.find(\"div\", class_=\"clearfix\").get_text()\n",
    "    l.append(article_text)\n",
    "\n",
    "def get_first_thousand_words(text):\n",
    "    words = re.findall(r'\\b\\w+\\b|[^\\w\\s]', text)\n",
    "    return ' '.join(words[:800])\n",
    "\n",
    "summarizer = pipeline(\"summarization\", model=\"facebook/bart-large-cnn\")\n",
    "summaries = []\n",
    "for i in l:\n",
    "    i = get_first_thousand_words(i)\n",
    "\n",
    "    summaries.append(summarizer(i, max_length=300, min_length=100))\n",
    "\n",
    "summariesText = [i[0][\"summary_text\"] for i in summaries]"
   ]
  },
  {
   "cell_type": "code",
   "execution_count": 86,
   "id": "d9b1e59b-5a00-4042-ba15-cb542b52181e",
   "metadata": {},
   "outputs": [
    {
     "data": {
      "text/plain": [
       "['https://www.theverge.com//2023/3/26/23655456/chatgpt-bard-bing-ai-race-text-boxes',\n",
       " 'https://www.theverge.com//23654583/gdc-2023-best-indie-games-venba-cart-life',\n",
       " 'https://www.theverge.com//23655396/dungeons-and-dragons-honor-among-thieves-review',\n",
       " 'https://www.theverge.com//2023/3/26/23655517/successio-season-4-review',\n",
       " 'https://www.theverge.com//23652417/amazfit-band-7-review-budget-fitness-tracker']"
      ]
     },
     "execution_count": 86,
     "metadata": {},
     "output_type": "execute_result"
    }
   ],
   "source": [
    "links"
   ]
  },
  {
   "cell_type": "code",
   "execution_count": 85,
   "id": "5b7138f1-71f3-4b85-8934-8e00f721df77",
   "metadata": {
    "tags": []
   },
   "outputs": [
    {
     "data": {
      "text/plain": [
       "['ChatGPT launched in November as a “ research preview . ” Now, barely four months later, it looks like ChatGPT really is going to change the way we think about technology. The future of technology is not whiz - bang interfaces or the metaverse. It’s “ typing commands into a text box on your computer . ’ The command line is back — it ’ s just a whole lot smarter now . Really, generative AI is headed in two simultaneous directions.',\n",
       " 'We gathered our favorites ( in no particular order ) right here. Most of these are due out later in 2023 , so plan your free time accordingly. Fae Farm looks to mix that space up a little with some dungeon crawling. Cart Life uses its gameplay as an empathy tool, and it ’ s remarkably effective. A Highland SongInkle is best - known for its narrative games , like the globe - trotting 80 Days or the archaeology adventure Heaven ’s Vault.',\n",
       " ' Paramount ’ s Dungeons & Dragons : Honor Among Thieves makes two things clear within its first five minutes : it understands its audience and D & D experience isn’t necessary. While it’s not perfect, directors John Francis Daley and Jonathan Goldstein have managed to serve up a balanced adaptation that ’s both effortless to watch while remaining faithful to its grandiloquent source material. Honor Among thieves takes place in the Forgotten Realms , a diverse fantasy world that also serves as the campaign setting for official D &D modules.',\n",
       " 'HBO ’s Succession has always been a story about people doing everything in their power to attack and dethrone the only god they truly worship and crave validation from. In its fourth and final season , though , Succession sticks so closely to its classic narrative playbook that it sometimes feels like it doesn’t have the guts to make bold choices. But while this season is sure to enthrall fans longing for the dark satire to continue indefinitely , those expecting to see the show shift into a fresher , more dynamic mode for its last hurrah might be disappointed.',\n",
       " 'Wearing the Amazfit Band 7 felt like stepping through a portal to the early days of wearable tech. This is the tracker for utilitarians who purse their lips at premium design flourishes. The colorful watchface adds a pop of color and personality to the otherwise bland Band 7. The Band 7 is light at 28g and is comfortable enough to wear to sleep. It is almost impossible to put on one - handed. Some app quirks can be wonky $ 42 . 74 at Amazon $ 49. 99 at Best Buy $ 49 . 99 at Amazfits.']"
      ]
     },
     "execution_count": 85,
     "metadata": {},
     "output_type": "execute_result"
    }
   ],
   "source": [
    "summariesText"
   ]
  },
  {
   "cell_type": "code",
   "execution_count": 59,
   "id": "0fa45e98-bb1c-4073-8f50-7e282cccc157",
   "metadata": {},
   "outputs": [],
   "source": [
    "import sqlite3\n",
    "\n",
    "conn.close()\n",
    "conn = None\n",
    "\n",
    "\n",
    "# Connect to the database\n",
    "conn = sqlite3.connect('NewsSummarizer.db')\n",
    "\n",
    "# Create a cursor object to execute SQL commands\n",
    "cursor = conn.cursor()\n",
    "\n",
    "# Delete all existing rows from the 'verge' table\n",
    "sql_command = \"DELETE FROM verge\"\n",
    "cursor.execute(sql_command)\n",
    "\n",
    "# SQL command to insert sample data into the 'verge' table\n",
    "sql_command = \"INSERT INTO verge (summary, link) VALUES (?, ?)\"\n",
    "\n",
    "# Execute the SQL command for each row of sample data\n",
    "for i in range(len(summariesText)):\n",
    "    row = (str(summariesText[i])[2:-3], links[i],)\n",
    "    cursor.execute(sql_command, row)\n",
    "\n",
    "# Commit the changes to the database\n",
    "conn.commit()\n",
    "\n",
    "# Close the database connection\n",
    "conn.close()\n"
   ]
  },
  {
   "cell_type": "code",
   "execution_count": 82,
   "id": "1e944193-a327-4e28-81da-92917195766b",
   "metadata": {},
   "outputs": [
    {
     "data": {
      "text/plain": [
       "[('The chatbots are out in force , but which is better and for what task ? We ’ve compared Google ’ s Bard, Microsoft’s Bing , and OpenAI ’s ChatGPT models with a range of questions. These questions span common requests from holiday tips to gaming advice to mortgage calculations. Bing is the winner here , but mainly because it picks one accurate hint ( Malenia is vulnerable to bleed damage ) and repeats it like Garth Marenghi doing a book reading. Bard is the only one to offer any help withMalenia ’S hellish Waterfowl Dance move ( although I don’t think it is the strongest strategy ) or advice for using a specific item.',),\n",
       " ('The Pacific Crest Trail spans around 2 , 650 miles through California, Oregon, and Washington. Hikers attempting to “ thru - hike ” a trail need to pack the gear necessary to stay alive. At roughly 11 pounds, my pack is way too heavy for the true ultralight purists. It omits some comfort items — a pillow, camp shoes, sleep clothes , and a midlayer / fleece — that more traditional backpackers would consider essential. The truest compromise is the one where everyone makes fun of you .',),\n",
       " ('The new rules are expected to cut consumer electricity bills by $ 1 . 5 billion a year. This is also the first time the DOE has issued federal efficiency standards for portable air purifiers. The new federal standards will go into effect in 2024 and will result in 27 percent energy savings. The DOE expects its new rules to reduce carbon dioxide emissions by 106 million metric tons over three decades. That avoids about as much climate pollution annually as roughly 13 . 4 million homes in a year . Ironically, air conditioners ( as long as they ’ re hooked up to power grids running on dirty energy ) are adding to the pollution causing climate change.',),\n",
       " ('Ford provided an update Friday on the construction of its massive new EV manufacturing complex in western Tennessee. Ford says it will build its next electric truck , codenamed “ Project T3 . ” The so - called BlueOval City campus won’t come online until 2025, but Ford has said it will be a “ mega campus ’ Ford plans to build 500 , 000 electric trucks a year at the BlueOv City complex, with production set to kick off within 30 months.',),\n",
       " ('The Sony PlayStation 5 console bundle with God of War Ragnarök is on sale for $ 509 at Walmart. The Xbox Series X is available in a bundle with the Xbox Elite Series 2 controller for $ 579 . 98 from Verizon. Eneba is selling the PC version of Resident Evil 4 for $ 44 . 99 after fees when you use code RE4US until March 27th at 7AM ET. The new remake of the 2005 classic is a massive graphical overhaul that stays true to its horror roots.',)]"
      ]
     },
     "execution_count": 82,
     "metadata": {},
     "output_type": "execute_result"
    }
   ],
   "source": [
    "summariesText"
   ]
  },
  {
   "cell_type": "code",
   "execution_count": 60,
   "id": "83eb87a5-b3c3-43c6-87bd-15b9fbf68616",
   "metadata": {},
   "outputs": [
    {
     "name": "stdout",
     "output_type": "stream",
     "text": [
      "Available tables:\n",
      "verge\n"
     ]
    }
   ],
   "source": [
    "import sqlite3\n",
    "\n",
    "# Connect to the database\n",
    "conn = sqlite3.connect('NewsSummarizer.db')\n",
    "\n",
    "# Create a cursor object to execute SQL commands\n",
    "cursor = conn.cursor()\n",
    "\n",
    "# SQL command to select table names\n",
    "sql_command = \"SELECT name FROM sqlite_master WHERE type='table';\"\n",
    "\n",
    "# Execute the SQL command\n",
    "cursor.execute(sql_command)\n",
    "\n",
    "# Fetch all the table names as a list of tuples\n",
    "table_names = cursor.fetchall()\n",
    "\n",
    "# Print the table names\n",
    "print(\"Available tables:\")\n",
    "for table in table_names:\n",
    "    print(table[0])\n",
    "\n",
    "# Close the database connection\n",
    "conn.close()\n"
   ]
  },
  {
   "cell_type": "code",
   "execution_count": 80,
   "id": "c1947c19-9d9b-49c2-867e-af9835c4b755",
   "metadata": {},
   "outputs": [],
   "source": [
    "# Connect to the database\n",
    "conn = sqlite3.connect('NewsSummarizer.db')\n",
    "\n",
    "# Create a cursor object to execute SQL commands\n",
    "cursor = conn.cursor()\n",
    "\n",
    "# Select all rows from the 'verge' table\n",
    "sql_command = \"SELECT * FROM verge\"\n",
    "cursor.execute(sql_command)\n",
    "\n",
    "summaries_final = []\n",
    "links_final = []\n",
    "# Fetch all rows and print them\n",
    "rows = cursor.fetchall()\n",
    "for row in rows:\n",
    "    summaries_final.append(row[0])\n",
    "    links_final.append(row[1])    \n",
    "\n",
    "# Close the database connection\n",
    "conn.close()\n"
   ]
  },
  {
   "cell_type": "code",
   "execution_count": 81,
   "id": "8a828c29-0fef-4c4f-b9cd-0339865cf335",
   "metadata": {},
   "outputs": [
    {
     "data": {
      "text/plain": [
       "['The chatbots are out in force , but which is better and for what task ? We ’ve compared Google ’ s Bard, Microsoft’s Bing , and OpenAI ’s ChatGPT models with a range of questions. These questions span common requests from holiday tips to gaming advice to mortgage calculations. Bing is the winner here , but mainly because it picks one accurate hint ( Malenia is vulnerable to bleed damage ) and repeats it like Garth Marenghi doing a book reading. Bard is the only one to offer any help withMalenia ’S hellish Waterfowl Dance move ( although I don’t think it is the strongest strategy ) or advice for using a specific item.',\n",
       " 'The Pacific Crest Trail spans around 2 , 650 miles through California, Oregon, and Washington. Hikers attempting to “ thru - hike ” a trail need to pack the gear necessary to stay alive. At roughly 11 pounds, my pack is way too heavy for the true ultralight purists. It omits some comfort items — a pillow, camp shoes, sleep clothes , and a midlayer / fleece — that more traditional backpackers would consider essential. The truest compromise is the one where everyone makes fun of you .',\n",
       " 'The new rules are expected to cut consumer electricity bills by $ 1 . 5 billion a year. This is also the first time the DOE has issued federal efficiency standards for portable air purifiers. The new federal standards will go into effect in 2024 and will result in 27 percent energy savings. The DOE expects its new rules to reduce carbon dioxide emissions by 106 million metric tons over three decades. That avoids about as much climate pollution annually as roughly 13 . 4 million homes in a year . Ironically, air conditioners ( as long as they ’ re hooked up to power grids running on dirty energy ) are adding to the pollution causing climate change.',\n",
       " 'Ford provided an update Friday on the construction of its massive new EV manufacturing complex in western Tennessee. Ford says it will build its next electric truck , codenamed “ Project T3 . ” The so - called BlueOval City campus won’t come online until 2025, but Ford has said it will be a “ mega campus ’ Ford plans to build 500 , 000 electric trucks a year at the BlueOv City complex, with production set to kick off within 30 months.',\n",
       " 'The Sony PlayStation 5 console bundle with God of War Ragnarök is on sale for $ 509 at Walmart. The Xbox Series X is available in a bundle with the Xbox Elite Series 2 controller for $ 579 . 98 from Verizon. Eneba is selling the PC version of Resident Evil 4 for $ 44 . 99 after fees when you use code RE4US until March 27th at 7AM ET. The new remake of the 2005 classic is a massive graphical overhaul that stays true to its horror roots.']"
      ]
     },
     "execution_count": 81,
     "metadata": {},
     "output_type": "execute_result"
    }
   ],
   "source": [
    "summaries_final"
   ]
  },
  {
   "cell_type": "code",
   "execution_count": 67,
   "id": "078d81a2-6ed5-4a36-a7ab-22f9135b198a",
   "metadata": {},
   "outputs": [],
   "source": [
    "summaries = []\n",
    "links = []\n",
    "for i in fromDB:\n",
    "    summaries.append(i[0])\n",
    "    links.append(i[1])"
   ]
  },
  {
   "cell_type": "code",
   "execution_count": 71,
   "id": "4763ebad-fcee-4e7c-b539-12ecd939112f",
   "metadata": {},
   "outputs": [
    {
     "data": {
      "text/plain": [
       "['https://www.theverge.com//2023/3/24/23653377/ai-chatbots-comparison-bard-bing-chatgpt-gpt-4',\n",
       " 'https://www.theverge.com//23630167/pacific-crest-trail-hiking-backpacking-gear-2600-miles',\n",
       " 'https://www.theverge.com//2023/3/24/23654817/energy-efficiency-standards-doe-window-ac-air-purifier',\n",
       " 'https://www.theverge.com//2023/3/24/23655071/ford-electric-truck-next-gen-project-t3-blueoval-city',\n",
       " 'https://www.theverge.com//2023/3/24/23654710/ps5-xbox-console-resident-evil-jabra-elite-active-deal-sale']"
      ]
     },
     "execution_count": 71,
     "metadata": {},
     "output_type": "execute_result"
    }
   ],
   "source": [
    "links"
   ]
  },
  {
   "cell_type": "code",
   "execution_count": 87,
   "id": "1521e944-9aa4-45c5-848c-5f1a9ea9b677",
   "metadata": {},
   "outputs": [
    {
     "ename": "BadInputError",
     "evalue": "BadInputError('cb9aa41a2cc241efa5d476babe3c4318', 'Error in call to API function \"files/upload\": Your app is not permitted to access this endpoint because it does not have the required scope \\'files.content.write\\'. The owner of the app can enable the scope for the app using the Permissions tab on the App Console.')",
     "output_type": "error",
     "traceback": [
      "\u001b[1;31m---------------------------------------------------------------------------\u001b[0m",
      "\u001b[1;31mJSONDecodeError\u001b[0m                           Traceback (most recent call last)",
      "File \u001b[1;32m~\\anaconda3\\envs\\transformers\\Lib\\site-packages\\requests\\models.py:971\u001b[0m, in \u001b[0;36mResponse.json\u001b[1;34m(self, **kwargs)\u001b[0m\n\u001b[0;32m    970\u001b[0m \u001b[38;5;28;01mtry\u001b[39;00m:\n\u001b[1;32m--> 971\u001b[0m     \u001b[38;5;28;01mreturn\u001b[39;00m \u001b[43mcomplexjson\u001b[49m\u001b[38;5;241;43m.\u001b[39;49m\u001b[43mloads\u001b[49m\u001b[43m(\u001b[49m\u001b[38;5;28;43mself\u001b[39;49m\u001b[38;5;241;43m.\u001b[39;49m\u001b[43mtext\u001b[49m\u001b[43m,\u001b[49m\u001b[43m \u001b[49m\u001b[38;5;241;43m*\u001b[39;49m\u001b[38;5;241;43m*\u001b[39;49m\u001b[43mkwargs\u001b[49m\u001b[43m)\u001b[49m\n\u001b[0;32m    972\u001b[0m \u001b[38;5;28;01mexcept\u001b[39;00m JSONDecodeError \u001b[38;5;28;01mas\u001b[39;00m e:\n\u001b[0;32m    973\u001b[0m     \u001b[38;5;66;03m# Catch JSON-related errors and raise as requests.JSONDecodeError\u001b[39;00m\n\u001b[0;32m    974\u001b[0m     \u001b[38;5;66;03m# This aliases json.JSONDecodeError and simplejson.JSONDecodeError\u001b[39;00m\n",
      "File \u001b[1;32m~\\anaconda3\\envs\\transformers\\Lib\\json\\__init__.py:346\u001b[0m, in \u001b[0;36mloads\u001b[1;34m(s, cls, object_hook, parse_float, parse_int, parse_constant, object_pairs_hook, **kw)\u001b[0m\n\u001b[0;32m    343\u001b[0m \u001b[38;5;28;01mif\u001b[39;00m (\u001b[38;5;28mcls\u001b[39m \u001b[38;5;129;01mis\u001b[39;00m \u001b[38;5;28;01mNone\u001b[39;00m \u001b[38;5;129;01mand\u001b[39;00m object_hook \u001b[38;5;129;01mis\u001b[39;00m \u001b[38;5;28;01mNone\u001b[39;00m \u001b[38;5;129;01mand\u001b[39;00m\n\u001b[0;32m    344\u001b[0m         parse_int \u001b[38;5;129;01mis\u001b[39;00m \u001b[38;5;28;01mNone\u001b[39;00m \u001b[38;5;129;01mand\u001b[39;00m parse_float \u001b[38;5;129;01mis\u001b[39;00m \u001b[38;5;28;01mNone\u001b[39;00m \u001b[38;5;129;01mand\u001b[39;00m\n\u001b[0;32m    345\u001b[0m         parse_constant \u001b[38;5;129;01mis\u001b[39;00m \u001b[38;5;28;01mNone\u001b[39;00m \u001b[38;5;129;01mand\u001b[39;00m object_pairs_hook \u001b[38;5;129;01mis\u001b[39;00m \u001b[38;5;28;01mNone\u001b[39;00m \u001b[38;5;129;01mand\u001b[39;00m \u001b[38;5;129;01mnot\u001b[39;00m kw):\n\u001b[1;32m--> 346\u001b[0m     \u001b[38;5;28;01mreturn\u001b[39;00m \u001b[43m_default_decoder\u001b[49m\u001b[38;5;241;43m.\u001b[39;49m\u001b[43mdecode\u001b[49m\u001b[43m(\u001b[49m\u001b[43ms\u001b[49m\u001b[43m)\u001b[49m\n\u001b[0;32m    347\u001b[0m \u001b[38;5;28;01mif\u001b[39;00m \u001b[38;5;28mcls\u001b[39m \u001b[38;5;129;01mis\u001b[39;00m \u001b[38;5;28;01mNone\u001b[39;00m:\n",
      "File \u001b[1;32m~\\anaconda3\\envs\\transformers\\Lib\\json\\decoder.py:337\u001b[0m, in \u001b[0;36mJSONDecoder.decode\u001b[1;34m(self, s, _w)\u001b[0m\n\u001b[0;32m    333\u001b[0m \u001b[38;5;250m\u001b[39m\u001b[38;5;124;03m\"\"\"Return the Python representation of ``s`` (a ``str`` instance\u001b[39;00m\n\u001b[0;32m    334\u001b[0m \u001b[38;5;124;03mcontaining a JSON document).\u001b[39;00m\n\u001b[0;32m    335\u001b[0m \n\u001b[0;32m    336\u001b[0m \u001b[38;5;124;03m\"\"\"\u001b[39;00m\n\u001b[1;32m--> 337\u001b[0m obj, end \u001b[38;5;241m=\u001b[39m \u001b[38;5;28;43mself\u001b[39;49m\u001b[38;5;241;43m.\u001b[39;49m\u001b[43mraw_decode\u001b[49m\u001b[43m(\u001b[49m\u001b[43ms\u001b[49m\u001b[43m,\u001b[49m\u001b[43m \u001b[49m\u001b[43midx\u001b[49m\u001b[38;5;241;43m=\u001b[39;49m\u001b[43m_w\u001b[49m\u001b[43m(\u001b[49m\u001b[43ms\u001b[49m\u001b[43m,\u001b[49m\u001b[43m \u001b[49m\u001b[38;5;241;43m0\u001b[39;49m\u001b[43m)\u001b[49m\u001b[38;5;241;43m.\u001b[39;49m\u001b[43mend\u001b[49m\u001b[43m(\u001b[49m\u001b[43m)\u001b[49m\u001b[43m)\u001b[49m\n\u001b[0;32m    338\u001b[0m end \u001b[38;5;241m=\u001b[39m _w(s, end)\u001b[38;5;241m.\u001b[39mend()\n",
      "File \u001b[1;32m~\\anaconda3\\envs\\transformers\\Lib\\json\\decoder.py:355\u001b[0m, in \u001b[0;36mJSONDecoder.raw_decode\u001b[1;34m(self, s, idx)\u001b[0m\n\u001b[0;32m    354\u001b[0m \u001b[38;5;28;01mexcept\u001b[39;00m \u001b[38;5;167;01mStopIteration\u001b[39;00m \u001b[38;5;28;01mas\u001b[39;00m err:\n\u001b[1;32m--> 355\u001b[0m     \u001b[38;5;28;01mraise\u001b[39;00m JSONDecodeError(\u001b[38;5;124m\"\u001b[39m\u001b[38;5;124mExpecting value\u001b[39m\u001b[38;5;124m\"\u001b[39m, s, err\u001b[38;5;241m.\u001b[39mvalue) \u001b[38;5;28;01mfrom\u001b[39;00m \u001b[38;5;28mNone\u001b[39m\n\u001b[0;32m    356\u001b[0m \u001b[38;5;28;01mreturn\u001b[39;00m obj, end\n",
      "\u001b[1;31mJSONDecodeError\u001b[0m: Expecting value: line 1 column 1 (char 0)",
      "\nDuring handling of the above exception, another exception occurred:\n",
      "\u001b[1;31mJSONDecodeError\u001b[0m                           Traceback (most recent call last)",
      "File \u001b[1;32m~\\anaconda3\\envs\\transformers\\Lib\\site-packages\\dropbox\\dropbox_client.py:624\u001b[0m, in \u001b[0;36m_DropboxTransport.raise_dropbox_error_for_resp\u001b[1;34m(self, res)\u001b[0m\n\u001b[0;32m    623\u001b[0m \u001b[38;5;28;01mtry\u001b[39;00m:\n\u001b[1;32m--> 624\u001b[0m     \u001b[38;5;28;01mif\u001b[39;00m \u001b[43mres\u001b[49m\u001b[38;5;241;43m.\u001b[39;49m\u001b[43mjson\u001b[49m\u001b[43m(\u001b[49m\u001b[43m)\u001b[49m[\u001b[38;5;124m'\u001b[39m\u001b[38;5;124merror\u001b[39m\u001b[38;5;124m'\u001b[39m] \u001b[38;5;241m==\u001b[39m \u001b[38;5;124m'\u001b[39m\u001b[38;5;124minvalid_grant\u001b[39m\u001b[38;5;124m'\u001b[39m:\n\u001b[0;32m    625\u001b[0m         request_id \u001b[38;5;241m=\u001b[39m res\u001b[38;5;241m.\u001b[39mheaders\u001b[38;5;241m.\u001b[39mget(\u001b[38;5;124m'\u001b[39m\u001b[38;5;124mx-dropbox-request-id\u001b[39m\u001b[38;5;124m'\u001b[39m)\n",
      "File \u001b[1;32m~\\anaconda3\\envs\\transformers\\Lib\\site-packages\\requests\\models.py:975\u001b[0m, in \u001b[0;36mResponse.json\u001b[1;34m(self, **kwargs)\u001b[0m\n\u001b[0;32m    972\u001b[0m \u001b[38;5;28;01mexcept\u001b[39;00m JSONDecodeError \u001b[38;5;28;01mas\u001b[39;00m e:\n\u001b[0;32m    973\u001b[0m     \u001b[38;5;66;03m# Catch JSON-related errors and raise as requests.JSONDecodeError\u001b[39;00m\n\u001b[0;32m    974\u001b[0m     \u001b[38;5;66;03m# This aliases json.JSONDecodeError and simplejson.JSONDecodeError\u001b[39;00m\n\u001b[1;32m--> 975\u001b[0m     \u001b[38;5;28;01mraise\u001b[39;00m RequestsJSONDecodeError(e\u001b[38;5;241m.\u001b[39mmsg, e\u001b[38;5;241m.\u001b[39mdoc, e\u001b[38;5;241m.\u001b[39mpos)\n",
      "\u001b[1;31mJSONDecodeError\u001b[0m: Expecting value: line 1 column 1 (char 0)",
      "\nDuring handling of the above exception, another exception occurred:\n",
      "\u001b[1;31mBadInputError\u001b[0m                             Traceback (most recent call last)",
      "Cell \u001b[1;32mIn[87], line 18\u001b[0m\n\u001b[0;32m     16\u001b[0m \u001b[38;5;66;03m# Upload the file to Dropbox\u001b[39;00m\n\u001b[0;32m     17\u001b[0m \u001b[38;5;28;01mwith\u001b[39;00m \u001b[38;5;28mopen\u001b[39m(\u001b[38;5;124m'\u001b[39m\u001b[38;5;124mdata.txt\u001b[39m\u001b[38;5;124m'\u001b[39m, \u001b[38;5;124m'\u001b[39m\u001b[38;5;124mrb\u001b[39m\u001b[38;5;124m'\u001b[39m) \u001b[38;5;28;01mas\u001b[39;00m f:\n\u001b[1;32m---> 18\u001b[0m     \u001b[43mdbx\u001b[49m\u001b[38;5;241;43m.\u001b[39;49m\u001b[43mfiles_upload\u001b[49m\u001b[43m(\u001b[49m\u001b[43mf\u001b[49m\u001b[38;5;241;43m.\u001b[39;49m\u001b[43mread\u001b[49m\u001b[43m(\u001b[49m\u001b[43m)\u001b[49m\u001b[43m,\u001b[49m\u001b[43m \u001b[49m\u001b[38;5;124;43m'\u001b[39;49m\u001b[38;5;124;43m/Apps/NewsSummarizer/data.txt\u001b[39;49m\u001b[38;5;124;43m'\u001b[39;49m\u001b[43m,\u001b[49m\u001b[43m \u001b[49m\u001b[43mmode\u001b[49m\u001b[38;5;241;43m=\u001b[39;49m\u001b[43mdropbox\u001b[49m\u001b[38;5;241;43m.\u001b[39;49m\u001b[43mfiles\u001b[49m\u001b[38;5;241;43m.\u001b[39;49m\u001b[43mWriteMode\u001b[49m\u001b[38;5;241;43m.\u001b[39;49m\u001b[43moverwrite\u001b[49m\u001b[43m)\u001b[49m\n",
      "File \u001b[1;32m~\\anaconda3\\envs\\transformers\\Lib\\site-packages\\dropbox\\base.py:3210\u001b[0m, in \u001b[0;36mDropboxBase.files_upload\u001b[1;34m(self, f, path, mode, autorename, client_modified, mute, property_groups, strict_conflict, content_hash)\u001b[0m\n\u001b[0;32m   3178\u001b[0m \u001b[38;5;250m\u001b[39m\u001b[38;5;124;03m\"\"\"\u001b[39;00m\n\u001b[0;32m   3179\u001b[0m \u001b[38;5;124;03mCreate a new file with the contents provided in the request. Do not use\u001b[39;00m\n\u001b[0;32m   3180\u001b[0m \u001b[38;5;124;03mthis to upload a file larger than 150 MB. Instead, create an upload\u001b[39;00m\n\u001b[1;32m   (...)\u001b[0m\n\u001b[0;32m   3200\u001b[0m \u001b[38;5;124;03m    :class:`dropbox.files.UploadError`\u001b[39;00m\n\u001b[0;32m   3201\u001b[0m \u001b[38;5;124;03m\"\"\"\u001b[39;00m\n\u001b[0;32m   3202\u001b[0m arg \u001b[38;5;241m=\u001b[39m files\u001b[38;5;241m.\u001b[39mUploadArg(path,\n\u001b[0;32m   3203\u001b[0m                       mode,\n\u001b[0;32m   3204\u001b[0m                       autorename,\n\u001b[1;32m   (...)\u001b[0m\n\u001b[0;32m   3208\u001b[0m                       strict_conflict,\n\u001b[0;32m   3209\u001b[0m                       content_hash)\n\u001b[1;32m-> 3210\u001b[0m r \u001b[38;5;241m=\u001b[39m \u001b[38;5;28;43mself\u001b[39;49m\u001b[38;5;241;43m.\u001b[39;49m\u001b[43mrequest\u001b[49m\u001b[43m(\u001b[49m\n\u001b[0;32m   3211\u001b[0m \u001b[43m    \u001b[49m\u001b[43mfiles\u001b[49m\u001b[38;5;241;43m.\u001b[39;49m\u001b[43mupload\u001b[49m\u001b[43m,\u001b[49m\n\u001b[0;32m   3212\u001b[0m \u001b[43m    \u001b[49m\u001b[38;5;124;43m'\u001b[39;49m\u001b[38;5;124;43mfiles\u001b[39;49m\u001b[38;5;124;43m'\u001b[39;49m\u001b[43m,\u001b[49m\n\u001b[0;32m   3213\u001b[0m \u001b[43m    \u001b[49m\u001b[43marg\u001b[49m\u001b[43m,\u001b[49m\n\u001b[0;32m   3214\u001b[0m \u001b[43m    \u001b[49m\u001b[43mf\u001b[49m\u001b[43m,\u001b[49m\n\u001b[0;32m   3215\u001b[0m \u001b[43m\u001b[49m\u001b[43m)\u001b[49m\n\u001b[0;32m   3216\u001b[0m \u001b[38;5;28;01mreturn\u001b[39;00m r\n",
      "File \u001b[1;32m~\\anaconda3\\envs\\transformers\\Lib\\site-packages\\dropbox\\dropbox_client.py:326\u001b[0m, in \u001b[0;36m_DropboxTransport.request\u001b[1;34m(self, route, namespace, request_arg, request_binary, timeout)\u001b[0m\n\u001b[0;32m    315\u001b[0m \u001b[38;5;28;01mif\u001b[39;00m (timeout \u001b[38;5;129;01mis\u001b[39;00m \u001b[38;5;28;01mNone\u001b[39;00m \u001b[38;5;129;01mand\u001b[39;00m\n\u001b[0;32m    316\u001b[0m         route \u001b[38;5;241m==\u001b[39m files\u001b[38;5;241m.\u001b[39mlist_folder_longpoll):\n\u001b[0;32m    317\u001b[0m     \u001b[38;5;66;03m# The client normally sends a timeout value to the\u001b[39;00m\n\u001b[1;32m   (...)\u001b[0m\n\u001b[0;32m    322\u001b[0m     \u001b[38;5;66;03m# due to a shorter socket timeout.\u001b[39;00m\n\u001b[0;32m    323\u001b[0m     \u001b[38;5;66;03m# NB: This is done here because base.py is auto-generated\u001b[39;00m\n\u001b[0;32m    324\u001b[0m     timeout \u001b[38;5;241m=\u001b[39m request_arg\u001b[38;5;241m.\u001b[39mtimeout \u001b[38;5;241m+\u001b[39m \u001b[38;5;241m90\u001b[39m\n\u001b[1;32m--> 326\u001b[0m res \u001b[38;5;241m=\u001b[39m \u001b[38;5;28;43mself\u001b[39;49m\u001b[38;5;241;43m.\u001b[39;49m\u001b[43mrequest_json_string_with_retry\u001b[49m\u001b[43m(\u001b[49m\u001b[43mhost\u001b[49m\u001b[43m,\u001b[49m\n\u001b[0;32m    327\u001b[0m \u001b[43m                                          \u001b[49m\u001b[43mroute_name\u001b[49m\u001b[43m,\u001b[49m\n\u001b[0;32m    328\u001b[0m \u001b[43m                                          \u001b[49m\u001b[43mroute_style\u001b[49m\u001b[43m,\u001b[49m\n\u001b[0;32m    329\u001b[0m \u001b[43m                                          \u001b[49m\u001b[43mserialized_arg\u001b[49m\u001b[43m,\u001b[49m\n\u001b[0;32m    330\u001b[0m \u001b[43m                                          \u001b[49m\u001b[43mauth_type\u001b[49m\u001b[43m,\u001b[49m\n\u001b[0;32m    331\u001b[0m \u001b[43m                                          \u001b[49m\u001b[43mrequest_binary\u001b[49m\u001b[43m,\u001b[49m\n\u001b[0;32m    332\u001b[0m \u001b[43m                                          \u001b[49m\u001b[43mtimeout\u001b[49m\u001b[38;5;241;43m=\u001b[39;49m\u001b[43mtimeout\u001b[49m\u001b[43m)\u001b[49m\n\u001b[0;32m    333\u001b[0m decoded_obj_result \u001b[38;5;241m=\u001b[39m json\u001b[38;5;241m.\u001b[39mloads(res\u001b[38;5;241m.\u001b[39mobj_result)\n\u001b[0;32m    334\u001b[0m \u001b[38;5;28;01mif\u001b[39;00m \u001b[38;5;28misinstance\u001b[39m(res, RouteResult):\n",
      "File \u001b[1;32m~\\anaconda3\\envs\\transformers\\Lib\\site-packages\\dropbox\\dropbox_client.py:476\u001b[0m, in \u001b[0;36m_DropboxTransport.request_json_string_with_retry\u001b[1;34m(self, host, route_name, route_style, request_json_arg, auth_type, request_binary, timeout)\u001b[0m\n\u001b[0;32m    474\u001b[0m \u001b[38;5;28mself\u001b[39m\u001b[38;5;241m.\u001b[39m_logger\u001b[38;5;241m.\u001b[39minfo(\u001b[38;5;124m'\u001b[39m\u001b[38;5;124mRequest to \u001b[39m\u001b[38;5;132;01m%s\u001b[39;00m\u001b[38;5;124m'\u001b[39m, route_name)\n\u001b[0;32m    475\u001b[0m \u001b[38;5;28;01mtry\u001b[39;00m:\n\u001b[1;32m--> 476\u001b[0m     \u001b[38;5;28;01mreturn\u001b[39;00m \u001b[38;5;28;43mself\u001b[39;49m\u001b[38;5;241;43m.\u001b[39;49m\u001b[43mrequest_json_string\u001b[49m\u001b[43m(\u001b[49m\u001b[43mhost\u001b[49m\u001b[43m,\u001b[49m\n\u001b[0;32m    477\u001b[0m \u001b[43m                                    \u001b[49m\u001b[43mroute_name\u001b[49m\u001b[43m,\u001b[49m\n\u001b[0;32m    478\u001b[0m \u001b[43m                                    \u001b[49m\u001b[43mroute_style\u001b[49m\u001b[43m,\u001b[49m\n\u001b[0;32m    479\u001b[0m \u001b[43m                                    \u001b[49m\u001b[43mrequest_json_arg\u001b[49m\u001b[43m,\u001b[49m\n\u001b[0;32m    480\u001b[0m \u001b[43m                                    \u001b[49m\u001b[43mauth_type\u001b[49m\u001b[43m,\u001b[49m\n\u001b[0;32m    481\u001b[0m \u001b[43m                                    \u001b[49m\u001b[43mrequest_binary\u001b[49m\u001b[43m,\u001b[49m\n\u001b[0;32m    482\u001b[0m \u001b[43m                                    \u001b[49m\u001b[43mtimeout\u001b[49m\u001b[38;5;241;43m=\u001b[39;49m\u001b[43mtimeout\u001b[49m\u001b[43m)\u001b[49m\n\u001b[0;32m    483\u001b[0m \u001b[38;5;28;01mexcept\u001b[39;00m AuthError \u001b[38;5;28;01mas\u001b[39;00m e:\n\u001b[0;32m    484\u001b[0m     \u001b[38;5;28;01mif\u001b[39;00m e\u001b[38;5;241m.\u001b[39merror \u001b[38;5;129;01mand\u001b[39;00m e\u001b[38;5;241m.\u001b[39merror\u001b[38;5;241m.\u001b[39mis_expired_access_token():\n",
      "File \u001b[1;32m~\\anaconda3\\envs\\transformers\\Lib\\site-packages\\dropbox\\dropbox_client.py:596\u001b[0m, in \u001b[0;36m_DropboxTransport.request_json_string\u001b[1;34m(self, host, func_name, route_style, request_json_arg, auth_type, request_binary, timeout)\u001b[0m\n\u001b[0;32m    587\u001b[0m     timeout \u001b[38;5;241m=\u001b[39m \u001b[38;5;28mself\u001b[39m\u001b[38;5;241m.\u001b[39m_timeout\n\u001b[0;32m    589\u001b[0m r \u001b[38;5;241m=\u001b[39m \u001b[38;5;28mself\u001b[39m\u001b[38;5;241m.\u001b[39m_session\u001b[38;5;241m.\u001b[39mpost(url,\n\u001b[0;32m    590\u001b[0m                        headers\u001b[38;5;241m=\u001b[39mheaders,\n\u001b[0;32m    591\u001b[0m                        data\u001b[38;5;241m=\u001b[39mbody,\n\u001b[1;32m   (...)\u001b[0m\n\u001b[0;32m    594\u001b[0m                        timeout\u001b[38;5;241m=\u001b[39mtimeout,\n\u001b[0;32m    595\u001b[0m                        )\n\u001b[1;32m--> 596\u001b[0m \u001b[38;5;28;43mself\u001b[39;49m\u001b[38;5;241;43m.\u001b[39;49m\u001b[43mraise_dropbox_error_for_resp\u001b[49m\u001b[43m(\u001b[49m\u001b[43mr\u001b[49m\u001b[43m)\u001b[49m\n\u001b[0;32m    597\u001b[0m request_id \u001b[38;5;241m=\u001b[39m r\u001b[38;5;241m.\u001b[39mheaders\u001b[38;5;241m.\u001b[39mget(\u001b[38;5;124m'\u001b[39m\u001b[38;5;124mx-dropbox-request-id\u001b[39m\u001b[38;5;124m'\u001b[39m)\n\u001b[0;32m    598\u001b[0m \u001b[38;5;28;01mif\u001b[39;00m r\u001b[38;5;241m.\u001b[39mstatus_code \u001b[38;5;129;01min\u001b[39;00m (\u001b[38;5;241m403\u001b[39m, \u001b[38;5;241m404\u001b[39m, \u001b[38;5;241m409\u001b[39m):\n",
      "File \u001b[1;32m~\\anaconda3\\envs\\transformers\\Lib\\site-packages\\dropbox\\dropbox_client.py:632\u001b[0m, in \u001b[0;36m_DropboxTransport.raise_dropbox_error_for_resp\u001b[1;34m(self, res)\u001b[0m\n\u001b[0;32m    630\u001b[0m             \u001b[38;5;28;01mraise\u001b[39;00m BadInputError(request_id, res\u001b[38;5;241m.\u001b[39mtext)\n\u001b[0;32m    631\u001b[0m     \u001b[38;5;28;01mexcept\u001b[39;00m \u001b[38;5;167;01mValueError\u001b[39;00m:\n\u001b[1;32m--> 632\u001b[0m         \u001b[38;5;28;01mraise\u001b[39;00m BadInputError(request_id, res\u001b[38;5;241m.\u001b[39mtext)\n\u001b[0;32m    633\u001b[0m \u001b[38;5;28;01melif\u001b[39;00m res\u001b[38;5;241m.\u001b[39mstatus_code \u001b[38;5;241m==\u001b[39m \u001b[38;5;241m401\u001b[39m:\n\u001b[0;32m    634\u001b[0m     \u001b[38;5;28;01massert\u001b[39;00m res\u001b[38;5;241m.\u001b[39mheaders\u001b[38;5;241m.\u001b[39mget(\u001b[38;5;124m'\u001b[39m\u001b[38;5;124mcontent-type\u001b[39m\u001b[38;5;124m'\u001b[39m) \u001b[38;5;241m==\u001b[39m \u001b[38;5;124m'\u001b[39m\u001b[38;5;124mapplication/json\u001b[39m\u001b[38;5;124m'\u001b[39m, (\n\u001b[0;32m    635\u001b[0m         \u001b[38;5;124m'\u001b[39m\u001b[38;5;124mExpected content-type to be application/json, got \u001b[39m\u001b[38;5;132;01m%r\u001b[39;00m\u001b[38;5;124m'\u001b[39m \u001b[38;5;241m%\u001b[39m\n\u001b[0;32m    636\u001b[0m         res\u001b[38;5;241m.\u001b[39mheaders\u001b[38;5;241m.\u001b[39mget(\u001b[38;5;124m'\u001b[39m\u001b[38;5;124mcontent-type\u001b[39m\u001b[38;5;124m'\u001b[39m))\n",
      "\u001b[1;31mBadInputError\u001b[0m: BadInputError('cb9aa41a2cc241efa5d476babe3c4318', 'Error in call to API function \"files/upload\": Your app is not permitted to access this endpoint because it does not have the required scope \\'files.content.write\\'. The owner of the app can enable the scope for the app using the Permissions tab on the App Console.')"
     ]
    }
   ],
   "source": [
    "import dropbox\n",
    "\n",
    "# Enter your access token here\n",
    "ACCESS_TOKEN = 'sl.BbVyAS1TBPadIhcDKEl86-drmfkyVwUu54C5OoZ4TxNFEX-lzhs2HZoGI6dsaL1UXz0L2wWBrMBfYv7x-5nTeMKleoWzaKzbdBqxX1XNYkQGkwtHN0h2z8nsl-GWxn-ro7KiIkE'\n",
    "\n",
    "\n",
    "# Write the lists to a file\n",
    "with open('data.txt', 'w') as f:\n",
    "    f.write('\\n'.join(summariesText))\n",
    "    f.write('\\n')\n",
    "    f.write('\\n'.join(links))\n",
    "\n",
    "# Create a Dropbox object\n",
    "dbx = dropbox.Dropbox(ACCESS_TOKEN)\n",
    "\n",
    "# Upload the file to Dropbox\n",
    "with open('data.txt', 'rb') as f:\n",
    "    dbx.files_upload(f.read(), '/Apps/NewsSummarizer/data.txt', mode=dropbox.files.WriteMode.overwrite)\n"
   ]
  },
  {
   "cell_type": "code",
   "execution_count": null,
   "id": "8c8eb985-759d-46d6-af0c-68015c00350c",
   "metadata": {},
   "outputs": [],
   "source": []
  }
 ],
 "metadata": {
  "kernelspec": {
   "display_name": "Python 3 (ipykernel)",
   "language": "python",
   "name": "python3"
  },
  "language_info": {
   "codemirror_mode": {
    "name": "ipython",
    "version": 3
   },
   "file_extension": ".py",
   "mimetype": "text/x-python",
   "name": "python",
   "nbconvert_exporter": "python",
   "pygments_lexer": "ipython3",
   "version": "3.11.0"
  }
 },
 "nbformat": 4,
 "nbformat_minor": 5
}
