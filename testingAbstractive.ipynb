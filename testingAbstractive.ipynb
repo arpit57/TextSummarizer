{
 "cells": [
  {
   "cell_type": "code",
   "execution_count": 29,
   "id": "cf6a09b5-82d4-483f-ab33-1657e0b5612b",
   "metadata": {},
   "outputs": [],
   "source": [
    "import requests\n",
    "from bs4 import BeautifulSoup\n",
    "# import spacy\n",
    "# from sklearn.feature_extraction.text import TfidfVectorizer\n",
    "# from sklearn.ensemble import RandomForestClassifier\n",
    "# import streamlit as st\n",
    "\n",
    "from transformers import pipeline\n",
    "import re"
   ]
  },
  {
   "cell_type": "code",
   "execution_count": 8,
   "id": "6081faed-282a-41d2-9c35-5798cb2127a3",
   "metadata": {},
   "outputs": [],
   "source": [
    "# specify the URL of the news website to scrape\n",
    "url = \"https://www.theverge.com/\"\n",
    "\n",
    "# send a GET request to the website URL and store the response\n",
    "response = requests.get(url)\n",
    "\n",
    "# parse the HTML content of the response using BeautifulSoup\n",
    "soup = BeautifulSoup(response.content, \"html.parser\")\n",
    "\n",
    "# find all the news article links on the website\n",
    "article_links = soup.find_all(\"a\", class_=\"group-hover:shadow-underline-franklin\")\n",
    "\n",
    "l = []\n",
    "links = []\n",
    "\n",
    "# loop through each article link and scrape the article text\n",
    "for link in article_links:\n",
    "    # extract the URL of the article\n",
    "    article_url = link[\"href\"]\n",
    "    \n",
    "    # send a GET request to the article URL and store the response\n",
    "    article_response = requests.get(url + article_url)\n",
    "    links.append(url + article_url)\n",
    "\n",
    "#     # parse the HTML content of the article using BeautifulSoup\n",
    "    article_soup = BeautifulSoup(article_response.content, \"html.parser\")\n",
    "    \n",
    "#     # find the main text content of the article and print it\n",
    "    article_text = article_soup.find(\"div\", class_=\"clearfix\").get_text()\n",
    "    l.append(article_text)\n"
   ]
  },
  {
   "cell_type": "code",
   "execution_count": 32,
   "id": "0e186365-e79c-4686-a136-aef29bdae684",
   "metadata": {},
   "outputs": [],
   "source": [
    "def get_first_thousand_words(text):\n",
    "    words = re.findall(r'\\b\\w+\\b|[^\\w\\s]', text)\n",
    "    return ' '.join(words[:800])\n"
   ]
  },
  {
   "cell_type": "code",
   "execution_count": 27,
   "id": "a6bc72ab-94fa-4580-91d4-e7028432db31",
   "metadata": {},
   "outputs": [
    {
     "name": "stdout",
     "output_type": "stream",
     "text": [
      "Remember when Pebble founder Eric Migicovsky released an impassioned plea for someone, anyone, to make a small Android phone that would compete with the iPhone Mini? He’s taking matters into his own hands.Now that Apple has stopped making new small phones, Migicovsky’s Small Android Phone petition has evolved into a “community-based project” — where that community includes a team working to design and produce the phone that Migicovsky and apparently quite a few Verge readers want. The petition got 38,700 signatures, and “almost all of that came from literally one article from The Verge,” one team member revealed in a design call.The Small Android Phone team — it’s not a company, yet — has been doing a lot of planning right under our noses. In a small Discord, they’ve quietly revealed their efforts to source a display, choose a chip, and design the body of the phone. They’ve even discussed how they might pay for it all. Diehard small phone enthusiasts are invited to give feedback at every step of the process as the team attempts to bend the phone market to their will.The Pebble Time Steel — the beloved wearable that Migicovsky, Bryant, and co. helped make in 2015. Photo: The VergeWhen we revealed how much we’d already learned about the project, Ben Bryant, one of the team leaders, was willing to hop on a call. So if you’re the kind of person who’d declare your interest in a phone with a sub-6.1-inch display, you’ll definitely want to hear him out. Bryant also worked for Migicovsky on the Pebble smartwatch, and he’s far from the only Pebble alumni on the Small Android Phone meet the team page. There’s also Alex De Stasio, who’s done industrial design work at GoPro; Chris Hendel, who’s worked as a project manager at Pebble and MongoDB; and Susan Holcomb, a data scientist turned writer. Bryant and De Stasio have largely been the public faces of the project, presenting and taking questions from community members during AMA and design calls.During one of those presentations, De Stasio laid out an idea of what the phone will look like: it’ll be small — obviously — and will feature a distinctive camera. “A lot of my sketching focuses on the camera bump,” he said on a design call. “This has a huge impact on the visual icon of the phone, so I wanted to spend some extra time on it to make sure it’s very uniquely recognizable and very iconic.” He then showed off a variety of different ways the lenses and LEDs could be laid out:Some of the designs De Stasio showed off during a call. Don’t get too excited about the modular concept — Bryant says the team is “probably going to shy away from it” due to complexity and cost. Image: Small Android Phone projectAs for the camera’s specs, Bryant says the goal is to “take good photos, which means it’s not a 100-megapixel sensor.” Instead, the main camera will probably be closer to 50MP. “Something that’s going to result in photos that look good.” Megapixels aren’t enough, of course; these days, getting “good” photos requires loads of software trickery, and it’s easy to go too far. Bryant says the team has “a couple leads” on camera software that could let them compete, including options from a few Chinese developers and individuals who’ve worked on RAW camera apps for other phones. “I think ultimately we’ll go the route of producing our own software,” Bryant tells me but says the main priority is just getting the phone built and shipped for now.De Stasio wants the design to seem capable, like a tool, while still being approachable. Slide: Small Android Phone TeamThe rest of the phone’s body should be, in De Stasio’s words, “a nice soft slab that’s very high quality, very nicely put together, very solid feeling, and that just has very soft details that feel really nice on your fingers.” So far, the team hasn’t decided on what the phone will be made of; they’re considering a metal frame covered in glass composite or ceramic-coated aluminum or similar with some engineering to let the cell signals and wireless charging through. While the team also name-drops forged carbon, bio-resin, and ceramic composites, Bryant predicts the team won’t be too adventurous. “We’re looking to stand out with our attention to detail, not some novel use of unusual materials.” The team also hasn’t decided on a name for the phone, though its internal codename is “Marvin.” Bryant did share a list of potential candidates, though, with some like “Pico” and “Pip” emphasizing the phone’s smallness, others trying to sound friendly or powerful like “Howdy” or “Atlas,” and one that feels like a very intentional throwback: “Pebble.”These are some of the phone names the team has brainstormed — the final one could be in here, according to Bryant. Slide: Small Android Phone teamIt’s clear this device will be geared toward people who put a phone’s size at the top of their priority list. For example, while the team wants to make a premium flagship, that doesn’t necessarily mean that it’ll have top-tier performance. Bryant said that they’re currently looking at two potential chipsets, the Snapdragon 8 Plus Gen 1 (a flagship chip that’s almost a year old) and “a yet-to-be-released mid-tier Qualcomm chip,” though plans could change. The team is also hoping to provide at least two years of software updates — a few years ago, that would have been a flagship-level promise, but Google, Samsung, and others have stepped up their game.As for how much it’ll cost, Bryant has been preparing the community for what could be an $850 price tag, even though a phone from an established manufacturer with similar specs and a more standard form factor would be closer to $650-700. (The iPhone 13 Mini started at $729 when it was new, but now Apple sells it for $599.) That price isn’t final — Bryant says it’ll depend on a lot of factors, including negotiations with the manufacturer, but it’s a real possibility.“The bet is there’s enough people willing to overpay for a phone.”Part of the\n",
      "If you don’t believe the rushed launch of AI chatbots by Big Tech has an extremely strong chance of degrading the web’s information ecosystem, consider the following: Right now,* if you ask Microsoft’s Bing chatbot if Google’s Bard chatbot has been shut down, it says yes, citing as evidence a news article that discusses a tweet in which a user asked Bard when it would be shut down and Bard said it already had, itself citing a comment from Hacker News in which someone joked about this happening, and someone else used ChatGPT to write fake news coverage about the event. (*I say “right now” because in the time between starting and finishing writing this story, Bing changed its answer and now correctly replies that Bard is still live. You can interpret this as showing that these systems are, at least, fixable or that they are so infinitely malleable that it’s impossible to even consistently report their mistakes.)Microsoft’s Bing chatbot thinks Google’s Bard chatbot has been shut down and incorrectly cites a news story to do so. Image: The VergeBut if reading all that made your head hurt, it should — and in more ways than one. What we have here is an early sign we’re stumbling into a massive game of AI misinformation telephone, in which chatbots are unable to gauge reliable news sources, misread stories about themselves, and misreport on their own capabilities. In this case, the whole thing started because of a single joke comment on Hacker News. Imagine what you could do if you wanted these systems to fail.It’s a laughable situation but one with potentially serious consequences. Given the inability of AI language models to reliably sort fact from fiction, their launch online threatens to unleash a rotten trail of misinformation and mistrust across the web, a miasma that is impossible to map completely or debunk authoritatively. All because Microsoft, Google, and OpenAI have decided that market share is more important than safety. These companies can put as many disclaimers as they like on their chatbots — telling us they’re “experiments,” “collaborations,” and definitely not search engines — but it’s a flimsy defense. We know how people use these systems, and we’ve already seen how they spread misinformation, whether inventing new stories that were never written or telling people about books that don’t exist. And now, they’re citing one another’s mistakes, too.Comments\n",
      "Counter-Strike 2 is official, and for some, it’s coming today. In a post on Twitter, Valve writes that a limited test for CS2 is starting today, which it describes as an “overhaul to every system, every piece of content, and every part of the C-S experience.” A website for the game describes it as “the largest technical leap forward in Counter-Strike’s history” and promises years of updates and new features. The full game is expected to release in summer 2023, according to the game’s FAQ. It will be free to play. CS2 is based on Valve’s Source 2 engine and includes updates to some of the game’s core mechanics, including improved smoke grenades and “sub-tick updates” that Valve says will let “servers know the exact instant that motion starts, a shot is fired, or a ‘nade is thrown.” (A video also appears to show someone clearing grenade smoke with another grenade.) The game will also have revamped maps, better visuals, UI enhancements, reworked audio, and more.In a video titled “Leveling Up The World,” Valve says that maps will be getting a new look in CS2 but that experienced players’ skills should carry over. The company also talks about the three “tiers” of maps in the games. There are “touchstone” levels, such as Dust II, that have minor visual tweaks but that are essentially unchanged and that should let people get a feel for the new gameplay in a familiar setting. There are also maps that have been upgraded or overhauled, which have either had Source 2 features added or have been entirely rebuilt. There’s also a dedicated bind to remove your weapon’s silencer, according to a tweet.Left: part of the Overpass map in CS:GO. Right: the same scene, rebuilt for CS2. Image: Valve and Image: ValveThe company says it’s starting a “limited test” on Wednesday and that people will be selected to join it based on factors like “recent playtime on Valve official servers, trust factor, and Steam account standing.” If you’re selected, you’ll get a notification in the CS:GO main menu that will let you enroll. People are allowed to stream their experience and post videos of it, so even those of us who can’t play the game should get a good look at the improved smoke and lighting effects.For now, you’ll just be playing the limited test on Counter-Strike’s famous Dust II map in Deathmatch and “unranked competitive matchmaking” modes, though Valve says other modes and maps will arrive in future test releases. The limited test is also only available on Windows for now, not macOS or Linux, and the FAQ has zero mentions of Valve’s Steam Deck handheld.Valve says there’s “much more to come”Fortunately, Valve says all the items you’ve collected in CS:GO will be available in the new game and that they’ll “all benefit from Source 2 lighting and materials.” Valve also notes that all stock weapons have been upgraded with “high-resolution models.” The company also says those whose accounts were banned from playing CS:GO will not be able to play CS2 on Valve servers either. “The game’s full range of new features will be announced at launch, but during the limited testing period we’ll be evaluating a subset of those features to get it ready for the worldwide release,” writes Valve spokesperson Kaci Aitchison Boyle. It looks like Valve plans on adding a lot more to the game, too, as the company notes there’s “much more to come” and that it will reveal all of the details of Counter-Strike 2” in just “a few months.”The “touchstone” Dust II map in CS2. Image: ValveThe announcement comes after weeks of speculation about a potential CS:GO upgrade. Earlier this month, esports journalist Richard Lewis reported that an overhauled CS:GO is in the works. Some users also spotted references to the new game in updates to Nvidia drivers, while PCGamesN found that Valve filed for a CS2 trademark just days before its reveal. The update to the game comes over a decade after the launch of CS:GO and over 20 years after the release of the original CS.Valve’s timing with this announcement is... interesting. The news dropped during Epic’s State of Unreal event at the 2023 Game Developers Conference, where Valve’s PC game store and game engine competitor is currently expected to announce major updates to its own Unreal Engine. Here’s the latest news from GDC 2023.Comments\n",
      "What a difference two years makes. Back in 2021, Nothing, the consumer tech startup led by OnePlus co-founder Carl Pei, had only publicly existed for a few short months before launching the Ear 1 true wireless earbuds. They were feature rich for their $99 price point but, at launch, suffered from plenty of bugs and so-so noise-canceling performance.Two years later and it’s time for a refresh with the imaginatively named Ear 2 earbuds. They add some nice quality-of-life features like support for multipoint connectivity, but fundamentally they’re very similar to their predecessors. Put the two next to each other, and it can be hard to tell them apart.In use, however, the Nothing Ear 2s feel like a much more polished product. There are fewer bugs, more capable active noise cancellation, and a much better and more refined sound. It’s enough to turn the Ear 2s from a good-looking pair of earbuds with only okay performance into an accessory that (almost) sounds as good as it looks. It’s just a shame that, at $149, they’re not quite the entry-level bargain this time around.7Verge ScoreNothing Ear 2$149The GoodStill just as stylishFar more balanced soundWireless chargingThe BadHit-or-miss personalization optionsOccasional ANC bugginess50 percent price hike$149.00 at NothingHow we rate and review productsThe Nothing Ear 2 earbuds now start at $149, a 50 percent increase over the starting price of the Nothing Ear 1s original $99 price point. That’s not entirely unexpected after Nothing increased the price of the Ear 1 earbuds by the same amount last October, but it impacts who the Ear 2’s competitors are. $149 is within striking distance of the (often discounted) AirPods and the same price as Samsung’s Galaxy Buds 2, for example. It means Nothing’s buds have to hit a much higher bar than their predecessors.But side by side with the Nothing Ear 1s, the physical differences appear to be minor. The Ear 2’s case is slightly slimmer and lighter, and the earbuds themselves are slightly taller and even slightly lighter. But look, the dimensions are close enough that the earbuds can physically fit in either charging case (though they’re not functionally cross-compatible across generations). One functional change, however, is that Nothing says it’s using more durable plastic this time around, which should theoretically reduce the amount of scratches compared to what we saw appear on our Ear 1 case.Battery life is both better and worse than the Ear 1 earbuds. With active noise cancellation (ANC) on, Nothing claims the Ear 2s offer four hours of playback from the buds themselves (same as the Ear 1s), rising to 22.5 hours with the case (slightly worse than the 24 hours claimed last time). But turn ANC off, and those figures rise to 6.3 hours and 36 hours (slightly better than the Ear 1’s 5.7 and 34-hour ratings). You get three sizes of ear tips in the box.It’s not just you, the Ear 2s (left) really do look very similar to the Ear 1s.That battery life isn’t great compared to a lot of the Ear 2’s noise cancellation-capable competitors. Samsung’s Galaxy Buds 2 offer a more impressive five hours of ANC playback from the buds themselves (though admittedly only 20 hours combined with their case), while Apple’s more expensive AirPods Pro 2 offer six hours of ANC listening from the buds, or 30 combined with the case. Cast your eye over our buying guide to the best wireless earbuds and many of our picks offer six hours or more.Like the Ear 1s, you still get wireless charging here, which is especially useful if you have a phone that can do reverse wireless charging like the Phone 1. Otherwise, there’s a USB-C to USB-C cable in the box for wired charging. Like an increasing amount of consumer tech, there’s no charging brick included.You get an IP54 rather than IPX4 rating this time aroundOne other note to make about build quality is the IP rating for dust and water resistance. Nothing says the Ear 2 earbuds are IP54 rated, which on its face is much more impressive than the IPX4 rating of the first-gen earbuds. But in reality, the only difference here is the addition of 5-level protection from a limited amount of dust. Water resistance is still a “4,” which means you get protection against splashes but not submersion. It’s a middle ground between the Galaxy Buds 2’s IPX2 rating and the Galaxy Buds 2 Pro’s IPX7 rating. Good news, in other words, if you plan to sweat while wearing Nothing’s earbuds, but not if you want to dunk them in water.Rather than the tap controls used by the Ear 1s and other earbuds from the likes of Samsung, the Ear 2 headphones are controlled by squeezing the stems on each earbud, similar to how Apple’s AirPods are controlled. The controls worked well in my testing; they weren’t prone to accidental activations, and most can be customized in the Nothing X app. New for these earbuds are a host of personalization features designed to tailor them to your ears and listening preferences. They’re all accessible via the Nothing X app on iOS and Android. There’s a sound personalization feature that attempts to test your hearing by having you listen to a series of beeps at varying pitches, an ANC personalization feature that attempts to automatically calibrate the earbuds’ noise cancellation to your hearing, and an equalizer to give you manual control over your audio. Another feature can tell you whether you’re using the right size of ear tip, and there’s also an “adaptive” noise cancellation mode this time around that’ll adjust its intensity depending on how loud your environment is to avoid sapping your battery in quieter environments.The transparent plastic thing might be a bit of a gimmick, but at least it’s a nice-looking gimmick.It’s nice to have this level of control, but the actual usefulness of the personalization options can be a bit hit-or-miss. The personalized ANC option and ear tip size tests seemed to work well enough, but creating a personal sound profile is a finicky manual process that resulted in a setting that I thought sounded worse than the\n",
      "Microsoft, an early backer of emerging technologies that take carbon dioxide emissions out of the atmosphere, has agreed to purchase carbon removal credits from Los Angeles-based startup CarbonCapture.CarbonCapture has a massive facility called a direct air capture (DAC) plant in the works in Wyoming. Named Project Bison, the facility is projected to start running sometime in the latter half of 2024. The startup has developed modular technology that draws in CO2 from the ambient air so it can be stored underground, preventing the greenhouse gas from contributing to climate change.The startup has developed modular technology that draws in CO2 from the ambient air so it can be stored undergroundMicrosoft has a goal of becoming “carbon negative” by 2030, meaning it would remove more CO2 pollution from the atmosphere than it generates through the use of fossil fuels. By 2050, Microsoft also plans to remove the equivalent of all its historical emissions since the company was founded. That’s a tall order, to say the least, considering carbon removal technology doesn’t yet exist at the scale needed for Microsoft to meet its climate goals.“This agreement with CarbonCapture helps us move toward our carbon negative goal, while also helping to catalyze the growth of the direct air capture industry as a whole,” Microsoft’s carbon removal portfolio director Phillip Goodman said in the announcement.Microsoft says its priority is to reduce how much pollution it creates in the first place, minimizing how much CO2 it would need to draw down from the atmosphere. But after falling for a few years, the company’s greenhouse gas emissions started to climb again in fiscal year 2021, according to its latest sustainability report. Microsoft was responsible for roughly 14 million metric tons of CO2 emissions that year, about as much as 35 gas-fired power plants might produce in a year. The tech giant’s new agreement with CarbonCapture will only be able to address a fraction of those emissions. CarbonCapture expects to be able to capture and store around 10,000 metric tons of CO2 annually after deploying its first modules in Wyoming next year. The modules look like vented shipping containers stacked on top of each other. The equipment can filter out about 75 percent of the CO2 in the air that passes through them. This generates concentrated streams of CO2 that would then need to be piped some 12,000 feet underground into saline aquifers. Another startup based in Dallas, Frontier Carbon Solutions, is partnering with CarbonCapture to permanently store the CO2 on-site. RelatedThe world’s largest carbon removal project yet is headed for Wyoming A Swiss company says it has pulled CO2 out of the atmosphere and stored it underground In a first, climate tech companies say they trapped atmospheric CO2 in concrete “This is a big deal for us,” CarbonCapture CEO and CTO Adrian Corless tells The Verge. Its purchase agreement with Microsoft is larger than the sum of the startup’s deals with other, smaller clients put together, according to Corless. “This is just an important, you know, validating step for our business,” he says. Neither company is divulging specific details yet when it comes to how much carbon dioxide Microsoft wants to remove or how much that will cost. Microsoft has also purchased carbon removal credits from Swiss company Climeworks for an undisclosed amount. By 2030, CarbonCapture plans to be able to remove 5 million metric tons of carbon dioxide a year at its Wyoming facility in Sweetwater County. That alone is a big endeavor; the global capacity for carbon removal today is still just .01 million metric tons of CO2 annually. Cost has so far been a big limiting factor for the industry. The price per metric ton of captured CO2 can be upwards of $600 per metric ton.Comments\n"
     ]
    }
   ],
   "source": [
    "for i in l:\n",
    "    i = get_first_thousand_words(i)\n",
    "    print(i)"
   ]
  },
  {
   "cell_type": "code",
   "execution_count": 33,
   "id": "6e275d33-c2c4-4a6d-b932-53afa9436654",
   "metadata": {},
   "outputs": [
    {
     "name": "stdout",
     "output_type": "stream",
     "text": [
      "[{'summary_text': 'Pebble founder Eric Migicovsky wants to make a small Android phone to compete with the iPhone Mini. His Small Android Phone petition has evolved into a community-based project. The team has been doing a lot of planning right under our noses. In a small Discord, they’ve quietly revealed their efforts to source a display, choose a chip, and design the body of the phone. They ’ve even discussed how they might pay for it all . Diehard small phone enthusiasts are invited to give feedback.'}]\n",
      "[{'summary_text': 'The rushed launch of AI chatbots by Big Tech has an extremely strong chance of degrading the web ’ s information ecosystem. What we have here is an early sign we ’re stumbling into a massive game of AI misinformation telephone. Chatbots are unable to gauge reliable news sources, misread stories about themselves, and misreport on their own capabilities. Given the inability of AI language models to reliably sort fact from fiction , their launch online threatens to unleash a rotten trail of misinformation and mistrust across the web.'}]\n",
      "[{'summary_text': 'A limited test for Counter - Strike 2 is starting today. The full game is expected to release in summer 2023 and will be free to play. CS2 is based on Valve ’s Source 2 engine and includes updates to some of the game ’ s core mechanics. The game will also have revamped maps, better visuals, UI enhancements, reworked audio, and more. The limited test is only available on Windows for now, not macOS or Linux. It comes after weeks of speculation about a potential CS : GO upgrade.'}]\n",
      "[{'summary_text': 'The Nothing Ear 2 earbuds now start at $ 149 , a 50 percent increase over the starting price of the Nothing Ear 1s original $ 99 price point. There are fewer bugs, more capable active noise cancellation , and a much better and more refined sound. The battery life isn’t great compared to a lot of the Ear 2 ’ s noise cancellation - capable competitors. The Ear 2s are within striking distance of the ( often discounted ) AirPods and the same price as Samsung ’s Galaxy Buds 2.'}]\n",
      "[{'summary_text': 'Microsoft has agreed to purchase carbon removal credits from Los Angeles - based startup CarbonCapture. CarbonCapture has a massive facility called a direct air capture ( DAC ) plant in the works in Wyoming. The startup has developed modular technology that draws in CO2 from the ambient air so it can be stored underground. Microsoft has a goal of becoming “ carbon negative ” by 2030 , meaning it would remove more CO2 pollution from the atmosphere than it generates through the use of fossil fuels. By 2050, Microsoft plans to remove the equivalent of all its historical emissions since the company was founded.'}]\n"
     ]
    }
   ],
   "source": [
    "\n",
    "summarizer = pipeline(\"summarization\", model=\"facebook/bart-large-cnn\")\n",
    "\n",
    "for i in l:\n",
    "    i = get_first_thousand_words(i)\n",
    "\n",
    "    print(summarizer(i, max_length=300, min_length=100, do_sample=False))\n"
   ]
  },
  {
   "cell_type": "code",
   "execution_count": 18,
   "id": "244dd11c-e0c5-47ac-a96e-88f9fa291dd1",
   "metadata": {},
   "outputs": [
    {
     "ename": "ImportError",
     "evalue": "cannot import name 'cached_path' from 'transformers.file_utils' (C:\\Users\\arpit\\anaconda3\\envs\\transformers\\lib\\site-packages\\transformers\\file_utils.py)",
     "output_type": "error",
     "traceback": [
      "\u001b[1;31m---------------------------------------------------------------------------\u001b[0m",
      "\u001b[1;31mImportError\u001b[0m                               Traceback (most recent call last)",
      "Cell \u001b[1;32mIn[18], line 1\u001b[0m\n\u001b[1;32m----> 1\u001b[0m \u001b[38;5;28;01mfrom\u001b[39;00m \u001b[38;5;21;01mtransformers\u001b[39;00m\u001b[38;5;21;01m.\u001b[39;00m\u001b[38;5;21;01mfile_utils\u001b[39;00m \u001b[38;5;28;01mimport\u001b[39;00m cached_path\n\u001b[0;32m      3\u001b[0m \u001b[38;5;28mprint\u001b[39m(cached_path(\u001b[38;5;124m\"\u001b[39m\u001b[38;5;124m\"\u001b[39m))\n",
      "\u001b[1;31mImportError\u001b[0m: cannot import name 'cached_path' from 'transformers.file_utils' (C:\\Users\\arpit\\anaconda3\\envs\\transformers\\lib\\site-packages\\transformers\\file_utils.py)"
     ]
    }
   ],
   "source": [
    "from transformers.file_utils import cached_path\n",
    "\n",
    "print(cached_path(\"\"))\n"
   ]
  },
  {
   "cell_type": "code",
   "execution_count": null,
   "id": "4fa5c48e-b4c7-4a79-8db5-878d8b9343c8",
   "metadata": {},
   "outputs": [],
   "source": []
  }
 ],
 "metadata": {
  "kernelspec": {
   "display_name": "Python 3 (ipykernel)",
   "language": "python",
   "name": "python3"
  },
  "language_info": {
   "codemirror_mode": {
    "name": "ipython",
    "version": 3
   },
   "file_extension": ".py",
   "mimetype": "text/x-python",
   "name": "python",
   "nbconvert_exporter": "python",
   "pygments_lexer": "ipython3",
   "version": "3.10.10"
  }
 },
 "nbformat": 4,
 "nbformat_minor": 5
}
